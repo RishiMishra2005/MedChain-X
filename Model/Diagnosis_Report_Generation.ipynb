{
 "cells": [
  {
   "cell_type": "markdown",
   "id": "ace37fd0",
   "metadata": {},
   "source": [
    "## Loading the required libraries "
   ]
  },
  {
   "cell_type": "code",
   "execution_count": 3,
   "id": "d8345267",
   "metadata": {},
   "outputs": [],
   "source": [
    "import numpy as np\n",
    "import tensorflow as tf\n",
    "from tensorflow.keras.models import load_model\n",
    "from tensorflow.keras.preprocessing.image import load_img, img_to_array\n",
    "from tensorflow.keras.applications.vgg16 import preprocess_input\n",
    "from fpdf import FPDF\n",
    "import os\n",
    "from datetime import datetime\n",
    "import google.generativeai as genai\n",
    "from config import API_KEY"
   ]
  },
  {
   "cell_type": "markdown",
   "id": "9d8e596c",
   "metadata": {},
   "source": [
    "## Configuring Gemini API using API key"
   ]
  },
  {
   "cell_type": "code",
   "execution_count": 4,
   "id": "8b56f647",
   "metadata": {},
   "outputs": [],
   "source": [
    "genai.configure(api_key=API_KEY)"
   ]
  },
  {
   "cell_type": "markdown",
   "id": "ef55307b",
   "metadata": {},
   "source": [
    "## Method to load model from .h5 file"
   ]
  },
  {
   "cell_type": "code",
   "execution_count": 5,
   "id": "af8cf7b5",
   "metadata": {},
   "outputs": [],
   "source": [
    "def load_trained_model(model_path):\n",
    "    return load_model(model_path)"
   ]
  },
  {
   "cell_type": "markdown",
   "id": "4b3c41fd",
   "metadata": {},
   "source": [
    "## Function to get predictions on the given X-Ray images"
   ]
  },
  {
   "cell_type": "code",
   "execution_count": 6,
   "id": "e1974eb0",
   "metadata": {},
   "outputs": [],
   "source": [
    "def predict_xray(model, image_path):\n",
    "    img = load_img(image_path, target_size=(224, 224))\n",
    "    img_array = img_to_array(img)\n",
    "    img_array = np.expand_dims(img_array, axis=0)\n",
    "    img_array = preprocess_input(img_array)\n",
    "\n",
    "    prediction = model.predict(img_array)\n",
    "    predicted_class = np.argmax(prediction)\n",
    "    categories = ['Normal', 'Pneumonia']\n",
    "    confidence = prediction[0][predicted_class]\n",
    "    \n",
    "    return categories[predicted_class], confidence"
   ]
  },
  {
   "cell_type": "markdown",
   "id": "a98e34e7",
   "metadata": {},
   "source": [
    "## Function to get GenAI remarks on the predictions and confidence"
   ]
  },
  {
   "cell_type": "code",
   "execution_count": 7,
   "id": "6d1ff183",
   "metadata": {},
   "outputs": [],
   "source": [
    "def generate_ai_remarks(prediction, confidence):\n",
    "    model = genai.GenerativeModel(\"gemini-1.5-flash\")\n",
    "    prompt = f\"Provide a short but informative medical remark for a chest X-ray diagnosis where the AI predicted '{prediction}' with a confidence score of {confidence*100:.2f}%.\"\n",
    "    \n",
    "    response = model.generate_content(prompt)\n",
    "    \n",
    "    return response.text.strip() if response and response.text else \"No AI-generated remarks available.\""
   ]
  },
  {
   "cell_type": "markdown",
   "id": "7cb1dd3d",
   "metadata": {},
   "source": [
    "## Class to create footer of the report"
   ]
  },
  {
   "cell_type": "code",
   "execution_count": 8,
   "id": "31cd9ee8",
   "metadata": {},
   "outputs": [],
   "source": [
    "class CustomPDF(FPDF):\n",
    "    def footer(self):\n",
    "        # Ensuring the footer is always at the bottom\n",
    "        self.set_y(-15)\n",
    "        self.set_fill_color(30, 144, 255)\n",
    "        self.rect(0, self.get_y(), 210, 15, 'F')\n",
    "        self.set_text_color(255, 255, 255)\n",
    "        self.set_font(\"Arial\", size=10)\n",
    "        self.cell(200, 10, \"MedChain-X | AI-powered Medical Diagnosis | Contact: support@medchainx.com\", ln=True, align='C')"
   ]
  },
  {
   "cell_type": "markdown",
   "id": "0ff0f308",
   "metadata": {},
   "source": [
    "## Function to generate report"
   ]
  },
  {
   "cell_type": "code",
   "execution_count": 9,
   "id": "f34a26e0",
   "metadata": {},
   "outputs": [],
   "source": [
    "def generate_medchainx_report(patient_name, age, gender, contact, xray_path, prediction, confidence):\n",
    "    pdf = CustomPDF()\n",
    "    pdf.set_auto_page_break(auto=True, margin=15)\n",
    "    pdf.add_page()\n",
    "\n",
    "    # Header\n",
    "    pdf.set_fill_color(30, 144, 255)\n",
    "    pdf.rect(0, 0, 210, 30, 'F')\n",
    "    pdf.set_font(\"Arial\", style='B', size=20)\n",
    "    pdf.set_text_color(255, 255, 255)\n",
    "    pdf.cell(200, 15, \"MedChain-X: AI-Powered Diagnosis Report\", ln=True, align='C')\n",
    "    pdf.ln(20)\n",
    "\n",
    "    # Patient Information Section\n",
    "    pdf.set_text_color(0, 0, 0)\n",
    "    pdf.set_font(\"Arial\", style='B', size=14)\n",
    "    pdf.cell(200, 10, \"Patient Details\", ln=True, align='L')\n",
    "    pdf.set_font(\"Arial\", size=12)\n",
    "    \n",
    "    pdf.cell(100, 8, f\"Name: {patient_name}\", ln=False)  # Name and Contact on the same line\n",
    "    pdf.cell(100, 8, f\"Contact: {contact}\", ln=True)\n",
    "    \n",
    "    pdf.cell(100, 8, f\"Age: {age}\", ln=False)  # Age and Gender on the same line\n",
    "    pdf.cell(100, 8, f\"Gender: {gender}\", ln=True)\n",
    "\n",
    "    pdf.cell(200, 8, f\"Date: {datetime.now().strftime('%Y-%m-%d %H:%M:%S')}\", ln=True)\n",
    "    pdf.ln(5)\n",
    "\n",
    "    # X-ray Image Section\n",
    "    if os.path.exists(xray_path):\n",
    "        pdf.set_font(\"Arial\", style='B', size=14)\n",
    "        pdf.cell(200, 10, \"Uploaded X-ray Scan:\", ln=True)\n",
    "        pdf.image(xray_path, x=50, y=None, w=100)\n",
    "        pdf.ln(5)\n",
    "\n",
    "    # Diagnosis Result Section\n",
    "    pdf.set_font(\"Arial\", style='B', size=14)\n",
    "    pdf.set_fill_color(240, 240, 240)\n",
    "    pdf.cell(200, 10, \"Diagnosis Result\", ln=True, align='L', fill=True)\n",
    "    pdf.set_font(\"Arial\", size=12)\n",
    "    pdf.cell(200, 8, f\"Predicted Condition: {prediction}\", ln=True)\n",
    "    pdf.cell(200, 8, f\"Confidence Score: {confidence*100:.2f}%\", ln=True)\n",
    "    pdf.ln(5)\n",
    "\n",
    "    # AI-generated remarks Section\n",
    "    ai_remarks = generate_ai_remarks(prediction, confidence)\n",
    "    pdf.set_font(\"Arial\", style='B', size=12)\n",
    "    pdf.cell(200, 8, \"AI-based Remarks:\", ln=True)\n",
    "    pdf.set_font(\"Arial\", size=12)\n",
    "    pdf.multi_cell(0, 8, ai_remarks)\n",
    "    pdf.ln(5)\n",
    "\n",
    "    # Next Steps Section\n",
    "    pdf.set_font(\"Arial\", style='B', size=12)\n",
    "    pdf.cell(200, 8, \"Next Steps:\", ln=True)\n",
    "    pdf.set_font(\"Arial\", size=12)\n",
    "    next_steps = \"- Schedule a follow-up consultation.\\n- Get additional tests if necessary.\\n- Maintain a healthy lifestyle and monitor symptoms.\"\n",
    "    pdf.multi_cell(0, 8, next_steps)\n",
    "    pdf.ln(5)\n",
    "\n",
    "    # Disclaimer Section\n",
    "    pdf.set_font(\"Arial\", style='B', size=12)\n",
    "    pdf.cell(200, 8, \"Disclaimer:\", ln=True)\n",
    "    pdf.set_font(\"Arial\", size=12)\n",
    "    disclaimer = \"This AI-generated diagnosis is from MedChain-X. If you are not satisfied with the results or want an expert opinion, consult a doctor instantly through MedChain-X's 'Consult a Doctor' option.\"\n",
    "    pdf.multi_cell(0, 8, disclaimer)\n",
    "    pdf.ln(5)\n",
    "\n",
    "    # Saving as PDF\n",
    "    report_path = f\"MedChainX_Report_{patient_name.replace(' ', '_')}_{datetime.now().strftime('%Y%m%d%H%M%S')}.pdf\"\n",
    "    pdf.output(report_path)\n",
    "    return report_path"
   ]
  },
  {
   "cell_type": "markdown",
   "id": "a40dc5af",
   "metadata": {},
   "source": [
    "## Main function for report generation"
   ]
  },
  {
   "cell_type": "code",
   "execution_count": 10,
   "id": "94a37727",
   "metadata": {},
   "outputs": [],
   "source": [
    "def getPdf(name, age, gender, contact, xray_path):\n",
    "    model = load_trained_model(\"model_vgg16.h5\")\n",
    "    prediction, confidence = predict_xray(model, xray_path)\n",
    "    report_path = generate_medchainx_report(name, age, gender, contact, xray_path, prediction, confidence)\n",
    "    print(f\"Report generated: {report_path}\")"
   ]
  },
  {
   "cell_type": "markdown",
   "id": "ebb87a4b",
   "metadata": {},
   "source": [
    "## Sample report generation"
   ]
  },
  {
   "cell_type": "code",
   "execution_count": 11,
   "id": "90452bd8",
   "metadata": {},
   "outputs": [
    {
     "name": "stdout",
     "output_type": "stream",
     "text": [
      "1/1 [==============================] - 1s 808ms/step\n",
      "Report generated: MedChainX_Report_John_Doe_20250227171905.pdf\n"
     ]
    }
   ],
   "source": [
    "getPdf(\"John Doe\", 36, \"Male\", \"+91 9876543212\", \"Dataset/Data/test/PNEUMONIA/person100_bacteria_478.jpeg\")"
   ]
  },
  {
   "cell_type": "code",
   "execution_count": null,
   "id": "a555557d",
   "metadata": {},
   "outputs": [],
   "source": []
  }
 ],
 "metadata": {
  "kernelspec": {
   "display_name": "Python 3 (ipykernel)",
   "language": "python",
   "name": "python3"
  },
  "language_info": {
   "codemirror_mode": {
    "name": "ipython",
    "version": 3
   },
   "file_extension": ".py",
   "mimetype": "text/x-python",
   "name": "python",
   "nbconvert_exporter": "python",
   "pygments_lexer": "ipython3",
   "version": "3.11.5"
  }
 },
 "nbformat": 4,
 "nbformat_minor": 5
}
